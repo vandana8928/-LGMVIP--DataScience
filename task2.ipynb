{
 "cells": [
  {
   "cell_type": "markdown",
   "metadata": {},
   "source": [
    "# Task 2  Stock Market Prediction And Forecasting Using Stacked LSTM [LGMVIP]\n",
    "Dataset:-https://raw.githubusercontent.com/mwitiderrick/stockprice/master/NSE-TATAGLOBAL.csv"
   ]
  },
  {
   "cell_type": "markdown",
   "metadata": {},
   "source": [
    "# Importing the libraries"
   ]
  },
  {
   "cell_type": "code",
   "execution_count": 3,
   "metadata": {},
   "outputs": [
    {
     "name": "stdout",
     "output_type": "stream",
     "text": [
      "Requirement already satisfied: tensorflow in d:\\anaconda\\lib\\site-packages (2.11.0)\n",
      "Requirement already satisfied: tensorflow-intel==2.11.0; platform_system == \"Windows\" in d:\\anaconda\\lib\\site-packages (from tensorflow) (2.11.0)\n",
      "Requirement already satisfied: opt-einsum>=2.3.2 in d:\\anaconda\\lib\\site-packages (from tensorflow-intel==2.11.0; platform_system == \"Windows\"->tensorflow) (3.3.0)\n",
      "Requirement already satisfied: grpcio<2.0,>=1.24.3 in d:\\anaconda\\lib\\site-packages (from tensorflow-intel==2.11.0; platform_system == \"Windows\"->tensorflow) (1.51.1)\n",
      "Requirement already satisfied: protobuf<3.20,>=3.9.2 in d:\\anaconda\\lib\\site-packages (from tensorflow-intel==2.11.0; platform_system == \"Windows\"->tensorflow) (3.17.3)\n",
      "Requirement already satisfied: six>=1.12.0 in d:\\anaconda\\lib\\site-packages (from tensorflow-intel==2.11.0; platform_system == \"Windows\"->tensorflow) (1.15.0)\n",
      "Requirement already satisfied: numpy>=1.20 in d:\\anaconda\\lib\\site-packages (from tensorflow-intel==2.11.0; platform_system == \"Windows\"->tensorflow) (1.20.3)\n",
      "Requirement already satisfied: tensorboard<2.12,>=2.11 in d:\\anaconda\\lib\\site-packages (from tensorflow-intel==2.11.0; platform_system == \"Windows\"->tensorflow) (2.11.0)\n",
      "Requirement already satisfied: absl-py>=1.0.0 in d:\\anaconda\\lib\\site-packages (from tensorflow-intel==2.11.0; platform_system == \"Windows\"->tensorflow) (1.3.0)\n",
      "Requirement already satisfied: astunparse>=1.6.0 in d:\\anaconda\\lib\\site-packages (from tensorflow-intel==2.11.0; platform_system == \"Windows\"->tensorflow) (1.6.3)\n",
      "Requirement already satisfied: gast<=0.4.0,>=0.2.1 in d:\\anaconda\\lib\\site-packages (from tensorflow-intel==2.11.0; platform_system == \"Windows\"->tensorflow) (0.4.0)\n",
      "Requirement already satisfied: google-pasta>=0.1.1 in d:\\anaconda\\lib\\site-packages (from tensorflow-intel==2.11.0; platform_system == \"Windows\"->tensorflow) (0.2.0)\n",
      "Requirement already satisfied: packaging in d:\\anaconda\\lib\\site-packages (from tensorflow-intel==2.11.0; platform_system == \"Windows\"->tensorflow) (20.4)\n",
      "Requirement already satisfied: flatbuffers>=2.0 in d:\\anaconda\\lib\\site-packages (from tensorflow-intel==2.11.0; platform_system == \"Windows\"->tensorflow) (22.12.6)\n",
      "Requirement already satisfied: libclang>=13.0.0 in d:\\anaconda\\lib\\site-packages (from tensorflow-intel==2.11.0; platform_system == \"Windows\"->tensorflow) (14.0.6)\n",
      "Requirement already satisfied: wrapt>=1.11.0 in d:\\anaconda\\lib\\site-packages (from tensorflow-intel==2.11.0; platform_system == \"Windows\"->tensorflow) (1.11.2)\n",
      "Requirement already satisfied: tensorflow-estimator<2.12,>=2.11.0 in d:\\anaconda\\lib\\site-packages (from tensorflow-intel==2.11.0; platform_system == \"Windows\"->tensorflow) (2.11.0)\n",
      "Requirement already satisfied: typing-extensions>=3.6.6 in d:\\anaconda\\lib\\site-packages (from tensorflow-intel==2.11.0; platform_system == \"Windows\"->tensorflow) (3.7.4.3)\n",
      "Requirement already satisfied: keras<2.12,>=2.11.0 in d:\\anaconda\\lib\\site-packages (from tensorflow-intel==2.11.0; platform_system == \"Windows\"->tensorflow) (2.11.0)\n",
      "Requirement already satisfied: tensorflow-io-gcs-filesystem>=0.23.1; platform_machine != \"arm64\" or platform_system != \"Darwin\" in d:\\anaconda\\lib\\site-packages (from tensorflow-intel==2.11.0; platform_system == \"Windows\"->tensorflow) (0.29.0)\n",
      "Requirement already satisfied: termcolor>=1.1.0 in d:\\anaconda\\lib\\site-packages (from tensorflow-intel==2.11.0; platform_system == \"Windows\"->tensorflow) (2.1.1)\n",
      "Requirement already satisfied: h5py>=2.9.0 in d:\\anaconda\\lib\\site-packages (from tensorflow-intel==2.11.0; platform_system == \"Windows\"->tensorflow) (2.10.0)\n",
      "Requirement already satisfied: setuptools in d:\\anaconda\\lib\\site-packages (from tensorflow-intel==2.11.0; platform_system == \"Windows\"->tensorflow) (50.3.1.post20201107)\n",
      "Requirement already satisfied: google-auth<3,>=1.6.3 in d:\\anaconda\\lib\\site-packages (from tensorboard<2.12,>=2.11->tensorflow-intel==2.11.0; platform_system == \"Windows\"->tensorflow) (2.15.0)\n",
      "Requirement already satisfied: google-auth-oauthlib<0.5,>=0.4.1 in d:\\anaconda\\lib\\site-packages (from tensorboard<2.12,>=2.11->tensorflow-intel==2.11.0; platform_system == \"Windows\"->tensorflow) (0.4.6)\n",
      "Requirement already satisfied: tensorboard-data-server<0.7.0,>=0.6.0 in d:\\anaconda\\lib\\site-packages (from tensorboard<2.12,>=2.11->tensorflow-intel==2.11.0; platform_system == \"Windows\"->tensorflow) (0.6.1)\n",
      "Requirement already satisfied: werkzeug>=1.0.1 in d:\\anaconda\\lib\\site-packages (from tensorboard<2.12,>=2.11->tensorflow-intel==2.11.0; platform_system == \"Windows\"->tensorflow) (1.0.1)\n",
      "Requirement already satisfied: wheel>=0.26 in d:\\anaconda\\lib\\site-packages (from tensorboard<2.12,>=2.11->tensorflow-intel==2.11.0; platform_system == \"Windows\"->tensorflow) (0.35.1)\n",
      "Requirement already satisfied: tensorboard-plugin-wit>=1.6.0 in d:\\anaconda\\lib\\site-packages (from tensorboard<2.12,>=2.11->tensorflow-intel==2.11.0; platform_system == \"Windows\"->tensorflow) (1.8.1)\n",
      "Requirement already satisfied: requests<3,>=2.21.0 in d:\\anaconda\\lib\\site-packages (from tensorboard<2.12,>=2.11->tensorflow-intel==2.11.0; platform_system == \"Windows\"->tensorflow) (2.24.0)\n",
      "Requirement already satisfied: markdown>=2.6.8 in d:\\anaconda\\lib\\site-packages (from tensorboard<2.12,>=2.11->tensorflow-intel==2.11.0; platform_system == \"Windows\"->tensorflow) (3.4.1)\n",
      "Requirement already satisfied: pyparsing>=2.0.2 in d:\\anaconda\\lib\\site-packages (from packaging->tensorflow-intel==2.11.0; platform_system == \"Windows\"->tensorflow) (2.4.7)\n",
      "Requirement already satisfied: pyasn1-modules>=0.2.1 in d:\\anaconda\\lib\\site-packages (from google-auth<3,>=1.6.3->tensorboard<2.12,>=2.11->tensorflow-intel==2.11.0; platform_system == \"Windows\"->tensorflow) (0.2.8)\n",
      "Requirement already satisfied: cachetools<6.0,>=2.0.0 in d:\\anaconda\\lib\\site-packages (from google-auth<3,>=1.6.3->tensorboard<2.12,>=2.11->tensorflow-intel==2.11.0; platform_system == \"Windows\"->tensorflow) (4.2.2)\n",
      "Requirement already satisfied: rsa<5,>=3.1.4; python_version >= \"3.6\" in d:\\anaconda\\lib\\site-packages (from google-auth<3,>=1.6.3->tensorboard<2.12,>=2.11->tensorflow-intel==2.11.0; platform_system == \"Windows\"->tensorflow) (4.9)\n",
      "Requirement already satisfied: requests-oauthlib>=0.7.0 in d:\\anaconda\\lib\\site-packages (from google-auth-oauthlib<0.5,>=0.4.1->tensorboard<2.12,>=2.11->tensorflow-intel==2.11.0; platform_system == \"Windows\"->tensorflow) (1.3.1)\n",
      "Requirement already satisfied: chardet<4,>=3.0.2 in d:\\anaconda\\lib\\site-packages (from requests<3,>=2.21.0->tensorboard<2.12,>=2.11->tensorflow-intel==2.11.0; platform_system == \"Windows\"->tensorflow) (3.0.4)\n",
      "Requirement already satisfied: certifi>=2017.4.17 in d:\\anaconda\\lib\\site-packages (from requests<3,>=2.21.0->tensorboard<2.12,>=2.11->tensorflow-intel==2.11.0; platform_system == \"Windows\"->tensorflow) (2020.6.20)\n",
      "Requirement already satisfied: urllib3!=1.25.0,!=1.25.1,<1.26,>=1.21.1 in d:\\anaconda\\lib\\site-packages (from requests<3,>=2.21.0->tensorboard<2.12,>=2.11->tensorflow-intel==2.11.0; platform_system == \"Windows\"->tensorflow) (1.25.11)\n",
      "Requirement already satisfied: idna<3,>=2.5 in d:\\anaconda\\lib\\site-packages (from requests<3,>=2.21.0->tensorboard<2.12,>=2.11->tensorflow-intel==2.11.0; platform_system == \"Windows\"->tensorflow) (2.10)\n",
      "Requirement already satisfied: importlib-metadata>=4.4; python_version < \"3.10\" in d:\\anaconda\\lib\\site-packages (from markdown>=2.6.8->tensorboard<2.12,>=2.11->tensorflow-intel==2.11.0; platform_system == \"Windows\"->tensorflow) (5.2.0)\n",
      "Requirement already satisfied: pyasn1<0.5.0,>=0.4.6 in d:\\anaconda\\lib\\site-packages (from pyasn1-modules>=0.2.1->google-auth<3,>=1.6.3->tensorboard<2.12,>=2.11->tensorflow-intel==2.11.0; platform_system == \"Windows\"->tensorflow) (0.4.8)\n",
      "Requirement already satisfied: oauthlib>=3.0.0 in d:\\anaconda\\lib\\site-packages (from requests-oauthlib>=0.7.0->google-auth-oauthlib<0.5,>=0.4.1->tensorboard<2.12,>=2.11->tensorflow-intel==2.11.0; platform_system == \"Windows\"->tensorflow) (3.2.2)\n",
      "Requirement already satisfied: zipp>=0.5 in d:\\anaconda\\lib\\site-packages (from importlib-metadata>=4.4; python_version < \"3.10\"->markdown>=2.6.8->tensorboard<2.12,>=2.11->tensorflow-intel==2.11.0; platform_system == \"Windows\"->tensorflow) (3.4.0)\n"
     ]
    }
   ],
   "source": [
    "!pip install tensorflow"
   ]
  },
  {
   "cell_type": "code",
   "execution_count": 4,
   "metadata": {},
   "outputs": [],
   "source": [
    "import tensorflow as tf\n",
    "import numpy as np\n",
    "import pandas as pd\n",
    "import seaborn as sns\n",
    "import math\n",
    "import matplotlib.pyplot as plt"
   ]
  },
  {
   "cell_type": "code",
   "execution_count": 5,
   "metadata": {},
   "outputs": [],
   "source": [
    "from tensorflow.python.keras.models import Sequential\n",
    "from tensorflow.python.keras.layers import Dense\n",
    "from tensorflow.python.keras.layers import LSTM"
   ]
  },
  {
   "cell_type": "markdown",
   "metadata": {},
   "source": [
    "# Importing Dataset"
   ]
  },
  {
   "cell_type": "code",
   "execution_count": 6,
   "metadata": {},
   "outputs": [],
   "source": [
    "data = pd.read_csv(\"stockdata.csv\")"
   ]
  },
  {
   "cell_type": "code",
   "execution_count": 7,
   "metadata": {},
   "outputs": [
    {
     "data": {
      "text/html": [
       "<div>\n",
       "<style scoped>\n",
       "    .dataframe tbody tr th:only-of-type {\n",
       "        vertical-align: middle;\n",
       "    }\n",
       "\n",
       "    .dataframe tbody tr th {\n",
       "        vertical-align: top;\n",
       "    }\n",
       "\n",
       "    .dataframe thead th {\n",
       "        text-align: right;\n",
       "    }\n",
       "</style>\n",
       "<table border=\"1\" class=\"dataframe\">\n",
       "  <thead>\n",
       "    <tr style=\"text-align: right;\">\n",
       "      <th></th>\n",
       "      <th>Date</th>\n",
       "      <th>Open</th>\n",
       "      <th>High</th>\n",
       "      <th>Low</th>\n",
       "      <th>Last</th>\n",
       "      <th>Close</th>\n",
       "      <th>Total Trade Quantity</th>\n",
       "      <th>Turnover (Lacs)</th>\n",
       "    </tr>\n",
       "  </thead>\n",
       "  <tbody>\n",
       "    <tr>\n",
       "      <th>0</th>\n",
       "      <td>2018-09-28</td>\n",
       "      <td>234.05</td>\n",
       "      <td>235.95</td>\n",
       "      <td>230.20</td>\n",
       "      <td>233.50</td>\n",
       "      <td>233.75</td>\n",
       "      <td>3069914</td>\n",
       "      <td>7162.35</td>\n",
       "    </tr>\n",
       "    <tr>\n",
       "      <th>1</th>\n",
       "      <td>2018-09-27</td>\n",
       "      <td>234.55</td>\n",
       "      <td>236.80</td>\n",
       "      <td>231.10</td>\n",
       "      <td>233.80</td>\n",
       "      <td>233.25</td>\n",
       "      <td>5082859</td>\n",
       "      <td>11859.95</td>\n",
       "    </tr>\n",
       "    <tr>\n",
       "      <th>2</th>\n",
       "      <td>2018-09-26</td>\n",
       "      <td>240.00</td>\n",
       "      <td>240.00</td>\n",
       "      <td>232.50</td>\n",
       "      <td>235.00</td>\n",
       "      <td>234.25</td>\n",
       "      <td>2240909</td>\n",
       "      <td>5248.60</td>\n",
       "    </tr>\n",
       "    <tr>\n",
       "      <th>3</th>\n",
       "      <td>2018-09-25</td>\n",
       "      <td>233.30</td>\n",
       "      <td>236.75</td>\n",
       "      <td>232.00</td>\n",
       "      <td>236.25</td>\n",
       "      <td>236.10</td>\n",
       "      <td>2349368</td>\n",
       "      <td>5503.90</td>\n",
       "    </tr>\n",
       "    <tr>\n",
       "      <th>4</th>\n",
       "      <td>2018-09-24</td>\n",
       "      <td>233.55</td>\n",
       "      <td>239.20</td>\n",
       "      <td>230.75</td>\n",
       "      <td>234.00</td>\n",
       "      <td>233.30</td>\n",
       "      <td>3423509</td>\n",
       "      <td>7999.55</td>\n",
       "    </tr>\n",
       "    <tr>\n",
       "      <th>5</th>\n",
       "      <td>2018-09-21</td>\n",
       "      <td>235.00</td>\n",
       "      <td>237.00</td>\n",
       "      <td>227.95</td>\n",
       "      <td>233.75</td>\n",
       "      <td>234.60</td>\n",
       "      <td>5395319</td>\n",
       "      <td>12589.59</td>\n",
       "    </tr>\n",
       "    <tr>\n",
       "      <th>6</th>\n",
       "      <td>2018-09-19</td>\n",
       "      <td>235.95</td>\n",
       "      <td>237.20</td>\n",
       "      <td>233.45</td>\n",
       "      <td>234.60</td>\n",
       "      <td>234.90</td>\n",
       "      <td>1362058</td>\n",
       "      <td>3202.78</td>\n",
       "    </tr>\n",
       "    <tr>\n",
       "      <th>7</th>\n",
       "      <td>2018-09-18</td>\n",
       "      <td>237.90</td>\n",
       "      <td>239.25</td>\n",
       "      <td>233.50</td>\n",
       "      <td>235.50</td>\n",
       "      <td>235.05</td>\n",
       "      <td>2614794</td>\n",
       "      <td>6163.70</td>\n",
       "    </tr>\n",
       "    <tr>\n",
       "      <th>8</th>\n",
       "      <td>2018-09-17</td>\n",
       "      <td>233.15</td>\n",
       "      <td>238.00</td>\n",
       "      <td>230.25</td>\n",
       "      <td>236.40</td>\n",
       "      <td>236.60</td>\n",
       "      <td>3170894</td>\n",
       "      <td>7445.41</td>\n",
       "    </tr>\n",
       "    <tr>\n",
       "      <th>9</th>\n",
       "      <td>2018-09-14</td>\n",
       "      <td>223.45</td>\n",
       "      <td>236.70</td>\n",
       "      <td>223.30</td>\n",
       "      <td>234.00</td>\n",
       "      <td>233.95</td>\n",
       "      <td>6377909</td>\n",
       "      <td>14784.50</td>\n",
       "    </tr>\n",
       "  </tbody>\n",
       "</table>\n",
       "</div>"
      ],
      "text/plain": [
       "         Date    Open    High     Low    Last   Close  Total Trade Quantity  \\\n",
       "0  2018-09-28  234.05  235.95  230.20  233.50  233.75               3069914   \n",
       "1  2018-09-27  234.55  236.80  231.10  233.80  233.25               5082859   \n",
       "2  2018-09-26  240.00  240.00  232.50  235.00  234.25               2240909   \n",
       "3  2018-09-25  233.30  236.75  232.00  236.25  236.10               2349368   \n",
       "4  2018-09-24  233.55  239.20  230.75  234.00  233.30               3423509   \n",
       "5  2018-09-21  235.00  237.00  227.95  233.75  234.60               5395319   \n",
       "6  2018-09-19  235.95  237.20  233.45  234.60  234.90               1362058   \n",
       "7  2018-09-18  237.90  239.25  233.50  235.50  235.05               2614794   \n",
       "8  2018-09-17  233.15  238.00  230.25  236.40  236.60               3170894   \n",
       "9  2018-09-14  223.45  236.70  223.30  234.00  233.95               6377909   \n",
       "\n",
       "   Turnover (Lacs)  \n",
       "0          7162.35  \n",
       "1         11859.95  \n",
       "2          5248.60  \n",
       "3          5503.90  \n",
       "4          7999.55  \n",
       "5         12589.59  \n",
       "6          3202.78  \n",
       "7          6163.70  \n",
       "8          7445.41  \n",
       "9         14784.50  "
      ]
     },
     "execution_count": 7,
     "metadata": {},
     "output_type": "execute_result"
    }
   ],
   "source": [
    "data.head(10)"
   ]
  },
  {
   "cell_type": "code",
   "execution_count": 8,
   "metadata": {},
   "outputs": [
    {
     "data": {
      "text/html": [
       "<div>\n",
       "<style scoped>\n",
       "    .dataframe tbody tr th:only-of-type {\n",
       "        vertical-align: middle;\n",
       "    }\n",
       "\n",
       "    .dataframe tbody tr th {\n",
       "        vertical-align: top;\n",
       "    }\n",
       "\n",
       "    .dataframe thead th {\n",
       "        text-align: right;\n",
       "    }\n",
       "</style>\n",
       "<table border=\"1\" class=\"dataframe\">\n",
       "  <thead>\n",
       "    <tr style=\"text-align: right;\">\n",
       "      <th></th>\n",
       "      <th>Date</th>\n",
       "      <th>Open</th>\n",
       "      <th>High</th>\n",
       "      <th>Low</th>\n",
       "      <th>Last</th>\n",
       "      <th>Close</th>\n",
       "      <th>Total Trade Quantity</th>\n",
       "      <th>Turnover (Lacs)</th>\n",
       "    </tr>\n",
       "  </thead>\n",
       "  <tbody>\n",
       "    <tr>\n",
       "      <th>2025</th>\n",
       "      <td>2010-08-03</td>\n",
       "      <td>118.3</td>\n",
       "      <td>119.95</td>\n",
       "      <td>117.90</td>\n",
       "      <td>118.65</td>\n",
       "      <td>118.30</td>\n",
       "      <td>611234</td>\n",
       "      <td>726.78</td>\n",
       "    </tr>\n",
       "    <tr>\n",
       "      <th>2026</th>\n",
       "      <td>2010-08-02</td>\n",
       "      <td>117.3</td>\n",
       "      <td>118.50</td>\n",
       "      <td>116.60</td>\n",
       "      <td>118.10</td>\n",
       "      <td>117.30</td>\n",
       "      <td>663593</td>\n",
       "      <td>779.85</td>\n",
       "    </tr>\n",
       "    <tr>\n",
       "      <th>2027</th>\n",
       "      <td>2010-07-30</td>\n",
       "      <td>116.5</td>\n",
       "      <td>118.00</td>\n",
       "      <td>114.60</td>\n",
       "      <td>115.85</td>\n",
       "      <td>116.05</td>\n",
       "      <td>2656191</td>\n",
       "      <td>3112.68</td>\n",
       "    </tr>\n",
       "    <tr>\n",
       "      <th>2028</th>\n",
       "      <td>2010-07-29</td>\n",
       "      <td>112.5</td>\n",
       "      <td>121.70</td>\n",
       "      <td>112.50</td>\n",
       "      <td>117.50</td>\n",
       "      <td>116.60</td>\n",
       "      <td>2359134</td>\n",
       "      <td>2791.03</td>\n",
       "    </tr>\n",
       "    <tr>\n",
       "      <th>2029</th>\n",
       "      <td>2010-07-28</td>\n",
       "      <td>118.0</td>\n",
       "      <td>120.50</td>\n",
       "      <td>117.20</td>\n",
       "      <td>118.15</td>\n",
       "      <td>118.25</td>\n",
       "      <td>835593</td>\n",
       "      <td>994.01</td>\n",
       "    </tr>\n",
       "    <tr>\n",
       "      <th>2030</th>\n",
       "      <td>2010-07-27</td>\n",
       "      <td>117.6</td>\n",
       "      <td>119.50</td>\n",
       "      <td>112.00</td>\n",
       "      <td>118.80</td>\n",
       "      <td>118.65</td>\n",
       "      <td>586100</td>\n",
       "      <td>694.98</td>\n",
       "    </tr>\n",
       "    <tr>\n",
       "      <th>2031</th>\n",
       "      <td>2010-07-26</td>\n",
       "      <td>120.1</td>\n",
       "      <td>121.00</td>\n",
       "      <td>117.10</td>\n",
       "      <td>117.10</td>\n",
       "      <td>117.60</td>\n",
       "      <td>658440</td>\n",
       "      <td>780.01</td>\n",
       "    </tr>\n",
       "    <tr>\n",
       "      <th>2032</th>\n",
       "      <td>2010-07-23</td>\n",
       "      <td>121.8</td>\n",
       "      <td>121.95</td>\n",
       "      <td>120.25</td>\n",
       "      <td>120.35</td>\n",
       "      <td>120.65</td>\n",
       "      <td>281312</td>\n",
       "      <td>340.31</td>\n",
       "    </tr>\n",
       "    <tr>\n",
       "      <th>2033</th>\n",
       "      <td>2010-07-22</td>\n",
       "      <td>120.3</td>\n",
       "      <td>122.00</td>\n",
       "      <td>120.25</td>\n",
       "      <td>120.75</td>\n",
       "      <td>120.90</td>\n",
       "      <td>293312</td>\n",
       "      <td>355.17</td>\n",
       "    </tr>\n",
       "    <tr>\n",
       "      <th>2034</th>\n",
       "      <td>2010-07-21</td>\n",
       "      <td>122.1</td>\n",
       "      <td>123.00</td>\n",
       "      <td>121.05</td>\n",
       "      <td>121.10</td>\n",
       "      <td>121.55</td>\n",
       "      <td>658666</td>\n",
       "      <td>803.56</td>\n",
       "    </tr>\n",
       "  </tbody>\n",
       "</table>\n",
       "</div>"
      ],
      "text/plain": [
       "            Date   Open    High     Low    Last   Close  Total Trade Quantity  \\\n",
       "2025  2010-08-03  118.3  119.95  117.90  118.65  118.30                611234   \n",
       "2026  2010-08-02  117.3  118.50  116.60  118.10  117.30                663593   \n",
       "2027  2010-07-30  116.5  118.00  114.60  115.85  116.05               2656191   \n",
       "2028  2010-07-29  112.5  121.70  112.50  117.50  116.60               2359134   \n",
       "2029  2010-07-28  118.0  120.50  117.20  118.15  118.25                835593   \n",
       "2030  2010-07-27  117.6  119.50  112.00  118.80  118.65                586100   \n",
       "2031  2010-07-26  120.1  121.00  117.10  117.10  117.60                658440   \n",
       "2032  2010-07-23  121.8  121.95  120.25  120.35  120.65                281312   \n",
       "2033  2010-07-22  120.3  122.00  120.25  120.75  120.90                293312   \n",
       "2034  2010-07-21  122.1  123.00  121.05  121.10  121.55                658666   \n",
       "\n",
       "      Turnover (Lacs)  \n",
       "2025           726.78  \n",
       "2026           779.85  \n",
       "2027          3112.68  \n",
       "2028          2791.03  \n",
       "2029           994.01  \n",
       "2030           694.98  \n",
       "2031           780.01  \n",
       "2032           340.31  \n",
       "2033           355.17  \n",
       "2034           803.56  "
      ]
     },
     "execution_count": 8,
     "metadata": {},
     "output_type": "execute_result"
    }
   ],
   "source": [
    "data.tail(10)"
   ]
  },
  {
   "cell_type": "markdown",
   "metadata": {},
   "source": [
    "# Used to view some basic statistical details"
   ]
  },
  {
   "cell_type": "code",
   "execution_count": 9,
   "metadata": {},
   "outputs": [
    {
     "data": {
      "text/html": [
       "<div>\n",
       "<style scoped>\n",
       "    .dataframe tbody tr th:only-of-type {\n",
       "        vertical-align: middle;\n",
       "    }\n",
       "\n",
       "    .dataframe tbody tr th {\n",
       "        vertical-align: top;\n",
       "    }\n",
       "\n",
       "    .dataframe thead th {\n",
       "        text-align: right;\n",
       "    }\n",
       "</style>\n",
       "<table border=\"1\" class=\"dataframe\">\n",
       "  <thead>\n",
       "    <tr style=\"text-align: right;\">\n",
       "      <th></th>\n",
       "      <th>Open</th>\n",
       "      <th>High</th>\n",
       "      <th>Low</th>\n",
       "      <th>Last</th>\n",
       "      <th>Close</th>\n",
       "      <th>Total Trade Quantity</th>\n",
       "      <th>Turnover (Lacs)</th>\n",
       "    </tr>\n",
       "  </thead>\n",
       "  <tbody>\n",
       "    <tr>\n",
       "      <th>count</th>\n",
       "      <td>2035.000000</td>\n",
       "      <td>2035.000000</td>\n",
       "      <td>2035.000000</td>\n",
       "      <td>2035.000000</td>\n",
       "      <td>2035.00000</td>\n",
       "      <td>2.035000e+03</td>\n",
       "      <td>2035.000000</td>\n",
       "    </tr>\n",
       "    <tr>\n",
       "      <th>mean</th>\n",
       "      <td>149.713735</td>\n",
       "      <td>151.992826</td>\n",
       "      <td>147.293931</td>\n",
       "      <td>149.474251</td>\n",
       "      <td>149.45027</td>\n",
       "      <td>2.335681e+06</td>\n",
       "      <td>3899.980565</td>\n",
       "    </tr>\n",
       "    <tr>\n",
       "      <th>std</th>\n",
       "      <td>48.664509</td>\n",
       "      <td>49.413109</td>\n",
       "      <td>47.931958</td>\n",
       "      <td>48.732570</td>\n",
       "      <td>48.71204</td>\n",
       "      <td>2.091778e+06</td>\n",
       "      <td>4570.767877</td>\n",
       "    </tr>\n",
       "    <tr>\n",
       "      <th>min</th>\n",
       "      <td>81.100000</td>\n",
       "      <td>82.800000</td>\n",
       "      <td>80.000000</td>\n",
       "      <td>81.000000</td>\n",
       "      <td>80.95000</td>\n",
       "      <td>3.961000e+04</td>\n",
       "      <td>37.040000</td>\n",
       "    </tr>\n",
       "    <tr>\n",
       "      <th>25%</th>\n",
       "      <td>120.025000</td>\n",
       "      <td>122.100000</td>\n",
       "      <td>118.300000</td>\n",
       "      <td>120.075000</td>\n",
       "      <td>120.05000</td>\n",
       "      <td>1.146444e+06</td>\n",
       "      <td>1427.460000</td>\n",
       "    </tr>\n",
       "    <tr>\n",
       "      <th>50%</th>\n",
       "      <td>141.500000</td>\n",
       "      <td>143.400000</td>\n",
       "      <td>139.600000</td>\n",
       "      <td>141.100000</td>\n",
       "      <td>141.25000</td>\n",
       "      <td>1.783456e+06</td>\n",
       "      <td>2512.030000</td>\n",
       "    </tr>\n",
       "    <tr>\n",
       "      <th>75%</th>\n",
       "      <td>157.175000</td>\n",
       "      <td>159.400000</td>\n",
       "      <td>155.150000</td>\n",
       "      <td>156.925000</td>\n",
       "      <td>156.90000</td>\n",
       "      <td>2.813594e+06</td>\n",
       "      <td>4539.015000</td>\n",
       "    </tr>\n",
       "    <tr>\n",
       "      <th>max</th>\n",
       "      <td>327.700000</td>\n",
       "      <td>328.750000</td>\n",
       "      <td>321.650000</td>\n",
       "      <td>325.950000</td>\n",
       "      <td>325.75000</td>\n",
       "      <td>2.919102e+07</td>\n",
       "      <td>55755.080000</td>\n",
       "    </tr>\n",
       "  </tbody>\n",
       "</table>\n",
       "</div>"
      ],
      "text/plain": [
       "              Open         High          Low         Last       Close  \\\n",
       "count  2035.000000  2035.000000  2035.000000  2035.000000  2035.00000   \n",
       "mean    149.713735   151.992826   147.293931   149.474251   149.45027   \n",
       "std      48.664509    49.413109    47.931958    48.732570    48.71204   \n",
       "min      81.100000    82.800000    80.000000    81.000000    80.95000   \n",
       "25%     120.025000   122.100000   118.300000   120.075000   120.05000   \n",
       "50%     141.500000   143.400000   139.600000   141.100000   141.25000   \n",
       "75%     157.175000   159.400000   155.150000   156.925000   156.90000   \n",
       "max     327.700000   328.750000   321.650000   325.950000   325.75000   \n",
       "\n",
       "       Total Trade Quantity  Turnover (Lacs)  \n",
       "count          2.035000e+03      2035.000000  \n",
       "mean           2.335681e+06      3899.980565  \n",
       "std            2.091778e+06      4570.767877  \n",
       "min            3.961000e+04        37.040000  \n",
       "25%            1.146444e+06      1427.460000  \n",
       "50%            1.783456e+06      2512.030000  \n",
       "75%            2.813594e+06      4539.015000  \n",
       "max            2.919102e+07     55755.080000  "
      ]
     },
     "execution_count": 9,
     "metadata": {},
     "output_type": "execute_result"
    }
   ],
   "source": [
    "data.describe()"
   ]
  },
  {
   "cell_type": "markdown",
   "metadata": {},
   "source": [
    "# No of rows and columns"
   ]
  },
  {
   "cell_type": "code",
   "execution_count": 10,
   "metadata": {},
   "outputs": [
    {
     "data": {
      "text/plain": [
       "(2035, 8)"
      ]
     },
     "execution_count": 10,
     "metadata": {},
     "output_type": "execute_result"
    }
   ],
   "source": [
    "data.shape"
   ]
  },
  {
   "cell_type": "markdown",
   "metadata": {},
   "source": [
    "# Checking for null values"
   ]
  },
  {
   "cell_type": "code",
   "execution_count": 11,
   "metadata": {},
   "outputs": [
    {
     "data": {
      "text/html": [
       "<div>\n",
       "<style scoped>\n",
       "    .dataframe tbody tr th:only-of-type {\n",
       "        vertical-align: middle;\n",
       "    }\n",
       "\n",
       "    .dataframe tbody tr th {\n",
       "        vertical-align: top;\n",
       "    }\n",
       "\n",
       "    .dataframe thead th {\n",
       "        text-align: right;\n",
       "    }\n",
       "</style>\n",
       "<table border=\"1\" class=\"dataframe\">\n",
       "  <thead>\n",
       "    <tr style=\"text-align: right;\">\n",
       "      <th></th>\n",
       "      <th>Date</th>\n",
       "      <th>Open</th>\n",
       "      <th>High</th>\n",
       "      <th>Low</th>\n",
       "      <th>Last</th>\n",
       "      <th>Close</th>\n",
       "      <th>Total Trade Quantity</th>\n",
       "      <th>Turnover (Lacs)</th>\n",
       "    </tr>\n",
       "  </thead>\n",
       "  <tbody>\n",
       "    <tr>\n",
       "      <th>0</th>\n",
       "      <td>False</td>\n",
       "      <td>False</td>\n",
       "      <td>False</td>\n",
       "      <td>False</td>\n",
       "      <td>False</td>\n",
       "      <td>False</td>\n",
       "      <td>False</td>\n",
       "      <td>False</td>\n",
       "    </tr>\n",
       "    <tr>\n",
       "      <th>1</th>\n",
       "      <td>False</td>\n",
       "      <td>False</td>\n",
       "      <td>False</td>\n",
       "      <td>False</td>\n",
       "      <td>False</td>\n",
       "      <td>False</td>\n",
       "      <td>False</td>\n",
       "      <td>False</td>\n",
       "    </tr>\n",
       "    <tr>\n",
       "      <th>2</th>\n",
       "      <td>False</td>\n",
       "      <td>False</td>\n",
       "      <td>False</td>\n",
       "      <td>False</td>\n",
       "      <td>False</td>\n",
       "      <td>False</td>\n",
       "      <td>False</td>\n",
       "      <td>False</td>\n",
       "    </tr>\n",
       "    <tr>\n",
       "      <th>3</th>\n",
       "      <td>False</td>\n",
       "      <td>False</td>\n",
       "      <td>False</td>\n",
       "      <td>False</td>\n",
       "      <td>False</td>\n",
       "      <td>False</td>\n",
       "      <td>False</td>\n",
       "      <td>False</td>\n",
       "    </tr>\n",
       "    <tr>\n",
       "      <th>4</th>\n",
       "      <td>False</td>\n",
       "      <td>False</td>\n",
       "      <td>False</td>\n",
       "      <td>False</td>\n",
       "      <td>False</td>\n",
       "      <td>False</td>\n",
       "      <td>False</td>\n",
       "      <td>False</td>\n",
       "    </tr>\n",
       "    <tr>\n",
       "      <th>...</th>\n",
       "      <td>...</td>\n",
       "      <td>...</td>\n",
       "      <td>...</td>\n",
       "      <td>...</td>\n",
       "      <td>...</td>\n",
       "      <td>...</td>\n",
       "      <td>...</td>\n",
       "      <td>...</td>\n",
       "    </tr>\n",
       "    <tr>\n",
       "      <th>2030</th>\n",
       "      <td>False</td>\n",
       "      <td>False</td>\n",
       "      <td>False</td>\n",
       "      <td>False</td>\n",
       "      <td>False</td>\n",
       "      <td>False</td>\n",
       "      <td>False</td>\n",
       "      <td>False</td>\n",
       "    </tr>\n",
       "    <tr>\n",
       "      <th>2031</th>\n",
       "      <td>False</td>\n",
       "      <td>False</td>\n",
       "      <td>False</td>\n",
       "      <td>False</td>\n",
       "      <td>False</td>\n",
       "      <td>False</td>\n",
       "      <td>False</td>\n",
       "      <td>False</td>\n",
       "    </tr>\n",
       "    <tr>\n",
       "      <th>2032</th>\n",
       "      <td>False</td>\n",
       "      <td>False</td>\n",
       "      <td>False</td>\n",
       "      <td>False</td>\n",
       "      <td>False</td>\n",
       "      <td>False</td>\n",
       "      <td>False</td>\n",
       "      <td>False</td>\n",
       "    </tr>\n",
       "    <tr>\n",
       "      <th>2033</th>\n",
       "      <td>False</td>\n",
       "      <td>False</td>\n",
       "      <td>False</td>\n",
       "      <td>False</td>\n",
       "      <td>False</td>\n",
       "      <td>False</td>\n",
       "      <td>False</td>\n",
       "      <td>False</td>\n",
       "    </tr>\n",
       "    <tr>\n",
       "      <th>2034</th>\n",
       "      <td>False</td>\n",
       "      <td>False</td>\n",
       "      <td>False</td>\n",
       "      <td>False</td>\n",
       "      <td>False</td>\n",
       "      <td>False</td>\n",
       "      <td>False</td>\n",
       "      <td>False</td>\n",
       "    </tr>\n",
       "  </tbody>\n",
       "</table>\n",
       "<p>2035 rows × 8 columns</p>\n",
       "</div>"
      ],
      "text/plain": [
       "       Date   Open   High    Low   Last  Close  Total Trade Quantity  \\\n",
       "0     False  False  False  False  False  False                 False   \n",
       "1     False  False  False  False  False  False                 False   \n",
       "2     False  False  False  False  False  False                 False   \n",
       "3     False  False  False  False  False  False                 False   \n",
       "4     False  False  False  False  False  False                 False   \n",
       "...     ...    ...    ...    ...    ...    ...                   ...   \n",
       "2030  False  False  False  False  False  False                 False   \n",
       "2031  False  False  False  False  False  False                 False   \n",
       "2032  False  False  False  False  False  False                 False   \n",
       "2033  False  False  False  False  False  False                 False   \n",
       "2034  False  False  False  False  False  False                 False   \n",
       "\n",
       "      Turnover (Lacs)  \n",
       "0               False  \n",
       "1               False  \n",
       "2               False  \n",
       "3               False  \n",
       "4               False  \n",
       "...               ...  \n",
       "2030            False  \n",
       "2031            False  \n",
       "2032            False  \n",
       "2033            False  \n",
       "2034            False  \n",
       "\n",
       "[2035 rows x 8 columns]"
      ]
     },
     "execution_count": 11,
     "metadata": {},
     "output_type": "execute_result"
    }
   ],
   "source": [
    "data.isnull()"
   ]
  },
  {
   "cell_type": "markdown",
   "metadata": {},
   "source": [
    "# Returns the number of missing values in dataset"
   ]
  },
  {
   "cell_type": "code",
   "execution_count": 12,
   "metadata": {},
   "outputs": [
    {
     "data": {
      "text/plain": [
       "Date                    0\n",
       "Open                    0\n",
       "High                    0\n",
       "Low                     0\n",
       "Last                    0\n",
       "Close                   0\n",
       "Total Trade Quantity    0\n",
       "Turnover (Lacs)         0\n",
       "dtype: int64"
      ]
     },
     "execution_count": 12,
     "metadata": {},
     "output_type": "execute_result"
    }
   ],
   "source": [
    "data.isnull().sum()"
   ]
  },
  {
   "cell_type": "markdown",
   "metadata": {},
   "source": [
    "# Returns the number of colum"
   ]
  },
  {
   "cell_type": "code",
   "execution_count": 13,
   "metadata": {},
   "outputs": [
    {
     "data": {
      "text/plain": [
       "Index(['Date', 'Open', 'High', 'Low', 'Last', 'Close', 'Total Trade Quantity',\n",
       "       'Turnover (Lacs)'],\n",
       "      dtype='object')"
      ]
     },
     "execution_count": 13,
     "metadata": {},
     "output_type": "execute_result"
    }
   ],
   "source": [
    "\n",
    "data.columns"
   ]
  },
  {
   "cell_type": "markdown",
   "metadata": {},
   "source": [
    "# Returns the number of unique values for each column"
   ]
  },
  {
   "cell_type": "code",
   "execution_count": 14,
   "metadata": {},
   "outputs": [
    {
     "data": {
      "text/plain": [
       "Date                    2035\n",
       "Open                    1165\n",
       "High                    1257\n",
       "Low                     1263\n",
       "Last                    1268\n",
       "Close                   1313\n",
       "Total Trade Quantity    2034\n",
       "Turnover (Lacs)         2030\n",
       "dtype: int64"
      ]
     },
     "execution_count": 14,
     "metadata": {},
     "output_type": "execute_result"
    }
   ],
   "source": [
    "\n",
    "data.nunique()"
   ]
  },
  {
   "cell_type": "code",
   "execution_count": 15,
   "metadata": {},
   "outputs": [
    {
     "data": {
      "text/plain": [
       "Date                     object\n",
       "Open                    float64\n",
       "High                    float64\n",
       "Low                     float64\n",
       "Last                    float64\n",
       "Close                   float64\n",
       "Total Trade Quantity      int64\n",
       "Turnover (Lacs)         float64\n",
       "dtype: object"
      ]
     },
     "execution_count": 15,
     "metadata": {},
     "output_type": "execute_result"
    }
   ],
   "source": [
    "data.dtypes"
   ]
  },
  {
   "cell_type": "code",
   "execution_count": 16,
   "metadata": {},
   "outputs": [
    {
     "data": {
      "text/plain": [
       "0       234.05\n",
       "1       234.55\n",
       "2       240.00\n",
       "3       233.30\n",
       "4       233.55\n",
       "         ...  \n",
       "2030    117.60\n",
       "2031    120.10\n",
       "2032    121.80\n",
       "2033    120.30\n",
       "2034    122.10\n",
       "Name: Open, Length: 2035, dtype: float64"
      ]
     },
     "execution_count": 16,
     "metadata": {},
     "output_type": "execute_result"
    }
   ],
   "source": [
    "df = data.reset_index()['Open']\n",
    "df"
   ]
  },
  {
   "cell_type": "code",
   "execution_count": 17,
   "metadata": {},
   "outputs": [
    {
     "data": {
      "text/plain": [
       "Text(0.5, 1.0, 'Open')"
      ]
     },
     "execution_count": 17,
     "metadata": {},
     "output_type": "execute_result"
    },
    {
     "data": {
      "image/png": "[encoded data removed]",
      "text/plain": [
       "<Figure size 2160x720 with 1 Axes>"
      ]
     },
     "metadata": {
      "needs_background": "light"
     },
     "output_type": "display_data"
    }
   ],
   "source": [
    "plt.subplots(figsize = (30,10))\n",
    "plt.plot(df, color=\"black\")\n",
    "plt.title('Open')"
   ]
  },
  {
   "cell_type": "code",
   "execution_count": 18,
   "metadata": {},
   "outputs": [],
   "source": [
    "from sklearn.preprocessing import MinMaxScaler"
   ]
  },
  {
   "cell_type": "code",
   "execution_count": 19,
   "metadata": {},
   "outputs": [
    {
     "data": {
      "text/plain": [
       "(2035, 1)"
      ]
     },
     "execution_count": 19,
     "metadata": {},
     "output_type": "execute_result"
    }
   ],
   "source": [
    "\n",
    "scaler = MinMaxScaler(feature_range = (0,1))\n",
    "df = scaler.fit_transform(np.array(df).reshape(-1,1))\n",
    "df.shape"
   ]
  },
  {
   "cell_type": "code",
   "execution_count": 20,
   "metadata": {},
   "outputs": [
    {
     "name": "stdout",
     "output_type": "stream",
     "text": [
      "[[0.6202352 ]\n",
      " [0.62226277]\n",
      " [0.64436334]\n",
      " ...\n",
      " [0.16504461]\n",
      " [0.15896188]\n",
      " [0.16626115]]\n"
     ]
    }
   ],
   "source": [
    "print(df)"
   ]
  },
  {
   "cell_type": "markdown",
   "metadata": {},
   "source": [
    "# Spliting the data into training and testing"
   ]
  },
  {
   "cell_type": "code",
   "execution_count": 21,
   "metadata": {},
   "outputs": [
    {
     "data": {
      "text/plain": [
       "(1526, 509)"
      ]
     },
     "execution_count": 21,
     "metadata": {},
     "output_type": "execute_result"
    }
   ],
   "source": [
    "training_size = int(len(df) * 0.75)\n",
    "testing_size = len(df) - training_size\n",
    "train_data, test_data = df[0 :training_size, :], df[training_size : len(df), :1]\n",
    "training_size, testing_size"
   ]
  },
  {
   "cell_type": "code",
   "execution_count": 22,
   "metadata": {},
   "outputs": [
    {
     "data": {
      "text/plain": [
       "(array([[0.6202352 ],\n",
       "        [0.62226277],\n",
       "        [0.64436334],\n",
       "        ...,\n",
       "        [0.18491484],\n",
       "        [0.15774534],\n",
       "        [0.16180049]]),\n",
       " array([[0.15774534],\n",
       "        [0.15774534],\n",
       "        [0.16991079],\n",
       "        [0.13746959],\n",
       "        [0.14963504],\n",
       "        [0.16605839],\n",
       "        [0.15369019],\n",
       "        [0.14152474],\n",
       "        [0.13341444],\n",
       "        [0.13260341],\n",
       "        [0.12368208],\n",
       "        [0.12246553],\n",
       "        [0.13625304],\n",
       "        [0.11719384],\n",
       "        [0.13746959],\n",
       "        [0.15004055],\n",
       "        [0.15308191],\n",
       "        [0.15794809],\n",
       "        [0.15186537],\n",
       "        [0.14557989],\n",
       "        [0.14497161],\n",
       "        [0.14801298],\n",
       "        [0.14476886],\n",
       "        [0.11719384],\n",
       "        [0.11151663],\n",
       "        [0.10563666],\n",
       "        [0.10218978],\n",
       "        [0.09712084],\n",
       "        [0.09691809],\n",
       "        [0.11131387],\n",
       "        [0.10644769],\n",
       "        [0.11111111],\n",
       "        [0.1202352 ],\n",
       "        [0.11922141],\n",
       "        [0.13219789],\n",
       "        [0.10969181],\n",
       "        [0.11232766],\n",
       "        [0.10097324],\n",
       "        [0.09712084],\n",
       "        [0.09326845],\n",
       "        [0.10948905],\n",
       "        [0.10725872],\n",
       "        [0.11719384],\n",
       "        [0.12530414],\n",
       "        [0.10705596],\n",
       "        [0.11516626],\n",
       "        [0.11111111],\n",
       "        [0.10604217],\n",
       "        [0.10786699],\n",
       "        [0.10117599],\n",
       "        [0.10016221],\n",
       "        [0.11293593],\n",
       "        [0.09144363],\n",
       "        [0.08880779],\n",
       "        [0.10908354],\n",
       "        [0.12550689],\n",
       "        [0.1216545 ],\n",
       "        [0.12550689],\n",
       "        [0.14294404],\n",
       "        [0.14882401],\n",
       "        [0.14882401],\n",
       "        [0.15632603],\n",
       "        [0.1459854 ],\n",
       "        [0.15348743],\n",
       "        [0.14152474],\n",
       "        [0.14030819],\n",
       "        [0.14578264],\n",
       "        [0.15227088],\n",
       "        [0.14781022],\n",
       "        [0.17274939],\n",
       "        [0.18207624],\n",
       "        [0.15733982],\n",
       "        [0.15470397],\n",
       "        [0.15186537],\n",
       "        [0.14821573],\n",
       "        [0.16342255],\n",
       "        [0.1540957 ],\n",
       "        [0.13949716],\n",
       "        [0.14760746],\n",
       "        [0.14517437],\n",
       "        [0.15774534],\n",
       "        [0.1431468 ],\n",
       "        [0.12733171],\n",
       "        [0.11131387],\n",
       "        [0.11313869],\n",
       "        [0.12104623],\n",
       "        [0.11739659],\n",
       "        [0.1311841 ],\n",
       "        [0.13746959],\n",
       "        [0.17396594],\n",
       "        [0.13158962],\n",
       "        [0.11313869],\n",
       "        [0.13300892],\n",
       "        [0.14274128],\n",
       "        [0.16180049],\n",
       "        [0.15429846],\n",
       "        [0.14760746],\n",
       "        [0.15369019],\n",
       "        [0.14801298],\n",
       "        [0.13260341],\n",
       "        [0.13807786],\n",
       "        [0.15794809],\n",
       "        [0.16058394],\n",
       "        [0.17497972],\n",
       "        [0.18187348],\n",
       "        [0.16666667],\n",
       "        [0.13240065],\n",
       "        [0.15369019],\n",
       "        [0.16180049],\n",
       "        [0.14557989],\n",
       "        [0.16545012],\n",
       "        [0.15754258],\n",
       "        [0.1636253 ],\n",
       "        [0.15977291],\n",
       "        [0.16382806],\n",
       "        [0.16342255],\n",
       "        [0.15652879],\n",
       "        [0.17011354],\n",
       "        [0.14760746],\n",
       "        [0.12935929],\n",
       "        [0.14233577],\n",
       "        [0.15774534],\n",
       "        [0.11719384],\n",
       "        [0.11800487],\n",
       "        [0.14152474],\n",
       "        [0.08475264],\n",
       "        [0.06853204],\n",
       "        [0.05636659],\n",
       "        [0.05028386],\n",
       "        [0.04480941],\n",
       "        [0.04825629],\n",
       "        [0.05454177],\n",
       "        [0.0553528 ],\n",
       "        [0.06447689],\n",
       "        [0.07643958],\n",
       "        [0.01987024],\n",
       "        [0.05190592],\n",
       "        [0.04805353],\n",
       "        [0.05494728],\n",
       "        [0.04927007],\n",
       "        [0.05231144],\n",
       "        [0.05231144],\n",
       "        [0.04622871],\n",
       "        [0.05636659],\n",
       "        [0.05616383],\n",
       "        [0.04339011],\n",
       "        [0.03994323],\n",
       "        [0.04014599],\n",
       "        [0.02331711],\n",
       "        [0.02798054],\n",
       "        [0.0324412 ],\n",
       "        [0.03183293],\n",
       "        [0.03974047],\n",
       "        [0.01987024],\n",
       "        [0.02392539],\n",
       "        [0.01662612],\n",
       "        [0.02027575],\n",
       "        [0.03527981],\n",
       "        [0.02189781],\n",
       "        [0.0296026 ],\n",
       "        [0.02128954],\n",
       "        [0.03669911],\n",
       "        [0.0310219 ],\n",
       "        [0.03953771],\n",
       "        [0.04014599],\n",
       "        [0.04298459],\n",
       "        [0.03041363],\n",
       "        [0.01804542],\n",
       "        [0.01155718],\n",
       "        [0.01175994],\n",
       "        [0.00466342],\n",
       "        [0.0052717 ],\n",
       "        [0.        ],\n",
       "        [0.00608273],\n",
       "        [0.00405515],\n",
       "        [0.00567721],\n",
       "        [0.00446067],\n",
       "        [0.01175994],\n",
       "        [0.01946472],\n",
       "        [0.02473642],\n",
       "        [0.03284672],\n",
       "        [0.03345499],\n",
       "        [0.04176805],\n",
       "        [0.0405515 ],\n",
       "        [0.04257908],\n",
       "        [0.0405515 ],\n",
       "        [0.04014599],\n",
       "        [0.04318735],\n",
       "        [0.04136253],\n",
       "        [0.03203569],\n",
       "        [0.02392539],\n",
       "        [0.01824818],\n",
       "        [0.01987024],\n",
       "        [0.01784266],\n",
       "        [0.02372263],\n",
       "        [0.03081914],\n",
       "        [0.03609084],\n",
       "        [0.02879157],\n",
       "        [0.02189781],\n",
       "        [0.02919708],\n",
       "        [0.01987024],\n",
       "        [0.02047851],\n",
       "        [0.00851582],\n",
       "        [0.00587997],\n",
       "        [0.00973236],\n",
       "        [0.013382  ],\n",
       "        [0.01784266],\n",
       "        [0.01520681],\n",
       "        [0.02270884],\n",
       "        [0.03264396],\n",
       "        [0.02676399],\n",
       "        [0.02392539],\n",
       "        [0.0148013 ],\n",
       "        [0.04217356],\n",
       "        [0.04257908],\n",
       "        [0.03892944],\n",
       "        [0.03649635],\n",
       "        [0.04906732],\n",
       "        [0.04622871],\n",
       "        [0.04115977],\n",
       "        [0.04379562],\n",
       "        [0.04420114],\n",
       "        [0.05616383],\n",
       "        [0.05515004],\n",
       "        [0.05636659],\n",
       "        [0.0405515 ],\n",
       "        [0.04521492],\n",
       "        [0.05352798],\n",
       "        [0.05636659],\n",
       "        [0.03994323],\n",
       "        [0.04927007],\n",
       "        [0.04379562],\n",
       "        [0.04744526],\n",
       "        [0.04420114],\n",
       "        [0.03122466],\n",
       "        [0.02007299],\n",
       "        [0.06042174],\n",
       "        [0.06893755],\n",
       "        [0.09184915],\n",
       "        [0.09164639],\n",
       "        [0.10077048],\n",
       "        [0.09610706],\n",
       "        [0.08678021],\n",
       "        [0.08880779],\n",
       "        [0.10948905],\n",
       "        [0.1107056 ],\n",
       "        [0.09164639],\n",
       "        [0.09935118],\n",
       "        [0.10989457],\n",
       "        [0.10827251],\n",
       "        [0.1054339 ],\n",
       "        [0.10056772],\n",
       "        [0.10056772],\n",
       "        [0.09083536],\n",
       "        [0.07765612],\n",
       "        [0.08049473],\n",
       "        [0.08880779],\n",
       "        [0.08941606],\n",
       "        [0.08069749],\n",
       "        [0.09042985],\n",
       "        [0.07866991],\n",
       "        [0.08069749],\n",
       "        [0.09691809],\n",
       "        [0.07704785],\n",
       "        [0.09610706],\n",
       "        [0.09266018],\n",
       "        [0.08982157],\n",
       "        [0.09975669],\n",
       "        [0.07177616],\n",
       "        [0.06853204],\n",
       "        [0.04987835],\n",
       "        [0.05109489],\n",
       "        [0.04805353],\n",
       "        [0.04034874],\n",
       "        [0.04217356],\n",
       "        [0.03730738],\n",
       "        [0.05109489],\n",
       "        [0.05433901],\n",
       "        [0.07137064],\n",
       "        [0.0648824 ],\n",
       "        [0.06812652],\n",
       "        [0.07643958],\n",
       "        [0.08008921],\n",
       "        [0.06042174],\n",
       "        [0.06407137],\n",
       "        [0.07177616],\n",
       "        [0.05961071],\n",
       "        [0.05231144],\n",
       "        [0.04541768],\n",
       "        [0.05231144],\n",
       "        [0.04257908],\n",
       "        [0.02798054],\n",
       "        [0.02696675],\n",
       "        [0.03041363],\n",
       "        [0.01885645],\n",
       "        [0.03000811],\n",
       "        [0.04480941],\n",
       "        [0.06103001],\n",
       "        [0.06650446],\n",
       "        [0.06123277],\n",
       "        [0.06427413],\n",
       "        [0.06650446],\n",
       "        [0.06549067],\n",
       "        [0.07319546],\n",
       "        [0.06853204],\n",
       "        [0.07988646],\n",
       "        [0.07887267],\n",
       "        [0.06853204],\n",
       "        [0.06914031],\n",
       "        [0.06812652],\n",
       "        [0.06812652],\n",
       "        [0.07583131],\n",
       "        [0.07684509],\n",
       "        [0.08069749],\n",
       "        [0.08759124],\n",
       "        [0.09610706],\n",
       "        [0.09894566],\n",
       "        [0.08657745],\n",
       "        [0.08860503],\n",
       "        [0.08272506],\n",
       "        [0.08475264],\n",
       "        [0.07866991],\n",
       "        [0.09083536],\n",
       "        [0.09083536],\n",
       "        [0.08373885],\n",
       "        [0.09549878],\n",
       "        [0.11415247],\n",
       "        [0.10644769],\n",
       "        [0.1040146 ],\n",
       "        [0.10421736],\n",
       "        [0.08069749],\n",
       "        [0.06751825],\n",
       "        [0.0663017 ],\n",
       "        [0.06650446],\n",
       "        [0.07055961],\n",
       "        [0.06934307],\n",
       "        [0.07542579],\n",
       "        [0.06853204],\n",
       "        [0.06873479],\n",
       "        [0.06954582],\n",
       "        [0.07137064],\n",
       "        [0.06934307],\n",
       "        [0.06853204],\n",
       "        [0.07258719],\n",
       "        [0.07542579],\n",
       "        [0.08718573],\n",
       "        [0.06082725],\n",
       "        [0.06001622],\n",
       "        [0.0553528 ],\n",
       "        [0.03203569],\n",
       "        [0.03609084],\n",
       "        [0.03730738],\n",
       "        [0.04014599],\n",
       "        [0.03527981],\n",
       "        [0.02798054],\n",
       "        [0.03000811],\n",
       "        [0.05879968],\n",
       "        [0.06326034],\n",
       "        [0.06042174],\n",
       "        [0.05798865],\n",
       "        [0.08272506],\n",
       "        [0.05961071],\n",
       "        [0.05981346],\n",
       "        [0.05778589],\n",
       "        [0.04602595],\n",
       "        [0.0310219 ],\n",
       "        [0.02879157],\n",
       "        [0.04825629],\n",
       "        [0.06042174],\n",
       "        [0.06731549],\n",
       "        [0.06244931],\n",
       "        [0.06650446],\n",
       "        [0.07177616],\n",
       "        [0.08069749],\n",
       "        [0.07319546],\n",
       "        [0.10097324],\n",
       "        [0.10178427],\n",
       "        [0.10502839],\n",
       "        [0.09529603],\n",
       "        [0.10097324],\n",
       "        [0.0973236 ],\n",
       "        [0.09712084],\n",
       "        [0.10016221],\n",
       "        [0.09813463],\n",
       "        [0.0973236 ],\n",
       "        [0.09205191],\n",
       "        [0.08759124],\n",
       "        [0.09509327],\n",
       "        [0.11192214],\n",
       "        [0.12570965],\n",
       "        [0.12895377],\n",
       "        [0.13037307],\n",
       "        [0.12489862],\n",
       "        [0.11313869],\n",
       "        [0.11111111],\n",
       "        [0.11922141],\n",
       "        [0.11901865],\n",
       "        [0.12043796],\n",
       "        [0.12935929],\n",
       "        [0.12854826],\n",
       "        [0.13341444],\n",
       "        [0.14476886],\n",
       "        [0.14537713],\n",
       "        [0.13746959],\n",
       "        [0.13665856],\n",
       "        [0.13665856],\n",
       "        [0.1311841 ],\n",
       "        [0.13341444],\n",
       "        [0.12327656],\n",
       "        [0.14111922],\n",
       "        [0.13746959],\n",
       "        [0.13990268],\n",
       "        [0.13017032],\n",
       "        [0.14152474],\n",
       "        [0.14111922],\n",
       "        [0.13138686],\n",
       "        [0.12915653],\n",
       "        [0.13098135],\n",
       "        [0.1269262 ],\n",
       "        [0.15166261],\n",
       "        [0.15004055],\n",
       "        [0.14193025],\n",
       "        [0.16017843],\n",
       "        [0.15693431],\n",
       "        [0.16504461],\n",
       "        [0.1770073 ],\n",
       "        [0.18146796],\n",
       "        [0.18815896],\n",
       "        [0.20924574],\n",
       "        [0.19424169],\n",
       "        [0.18106245],\n",
       "        [0.18207624],\n",
       "        [0.1960665 ],\n",
       "        [0.17680454],\n",
       "        [0.18207624],\n",
       "        [0.18004866],\n",
       "        [0.18207624],\n",
       "        [0.18876723],\n",
       "        [0.19383617],\n",
       "        [0.19099757],\n",
       "        [0.19505272],\n",
       "        [0.19809408],\n",
       "        [0.20640714],\n",
       "        [0.19748581],\n",
       "        [0.19525547],\n",
       "        [0.20437956],\n",
       "        [0.19870235],\n",
       "        [0.21796431],\n",
       "        [0.21553122],\n",
       "        [0.20600162],\n",
       "        [0.21654501],\n",
       "        [0.21654501],\n",
       "        [0.2175588 ],\n",
       "        [0.19870235],\n",
       "        [0.19018654],\n",
       "        [0.17802109],\n",
       "        [0.175588  ],\n",
       "        [0.16301703],\n",
       "        [0.16707218],\n",
       "        [0.17112733],\n",
       "        [0.17639903],\n",
       "        [0.18349554],\n",
       "        [0.1717356 ],\n",
       "        [0.16423358],\n",
       "        [0.16991079],\n",
       "        [0.17619627],\n",
       "        [0.16788321],\n",
       "        [0.16909976],\n",
       "        [0.17396594],\n",
       "        [0.17741281],\n",
       "        [0.18268451],\n",
       "        [0.19221411],\n",
       "        [0.18896999],\n",
       "        [0.19018654],\n",
       "        [0.17396594],\n",
       "        [0.17092457],\n",
       "        [0.16788321],\n",
       "        [0.17477697],\n",
       "        [0.16443633],\n",
       "        [0.14557989],\n",
       "        [0.15287916],\n",
       "        [0.15369019],\n",
       "        [0.15044607],\n",
       "        [0.14152474],\n",
       "        [0.15145985],\n",
       "        [0.13341444],\n",
       "        [0.12530414],\n",
       "        [0.11719384],\n",
       "        [0.11780211],\n",
       "        [0.12489862],\n",
       "        [0.14132198],\n",
       "        [0.13098135],\n",
       "        [0.12935929],\n",
       "        [0.13240065],\n",
       "        [0.12895377],\n",
       "        [0.12530414],\n",
       "        [0.13381995],\n",
       "        [0.14557989],\n",
       "        [0.15166261],\n",
       "        [0.15085158],\n",
       "        [0.14679643],\n",
       "        [0.14355231],\n",
       "        [0.12733171],\n",
       "        [0.14963504],\n",
       "        [0.14801298],\n",
       "        [0.15815085],\n",
       "        [0.16504461],\n",
       "        [0.15896188],\n",
       "        [0.16626115]]))"
      ]
     },
     "execution_count": 22,
     "metadata": {},
     "output_type": "execute_result"
    }
   ],
   "source": [
    "train_data, test_data"
   ]
  },
  {
   "cell_type": "markdown",
   "metadata": {},
   "source": [
    "# Convert array of values into dataset"
   ]
  },
  {
   "cell_type": "code",
   "execution_count": 23,
   "metadata": {},
   "outputs": [],
   "source": [
    "def create_dataset(dataset, time_step=1):\n",
    "  train_X, train_Y = [],[]\n",
    "  for i in range(len(dataset)-time_step-1):\n",
    "    a = dataset[i:(i+time_step),0]\n",
    "    train_X.append(a)\n",
    "    train_Y.append(dataset[i+time_step, 0])\n",
    "  return np.array(train_X),np.array(train_Y)"
   ]
  },
  {
   "cell_type": "code",
   "execution_count": 24,
   "metadata": {},
   "outputs": [],
   "source": [
    "time_step = 100\n",
    "x_train, y_train = create_dataset(train_data, time_step)\n",
    "x_test, y_test = create_dataset(test_data, time_step)"
   ]
  },
  {
   "cell_type": "markdown",
   "metadata": {},
   "source": [
    "# Reshape the input to be [samples, time steps, features] which is the requirement of LSTM"
   ]
  },
  {
   "cell_type": "code",
   "execution_count": 25,
   "metadata": {},
   "outputs": [],
   "source": [
    "x_train = x_train.reshape(x_train.shape[0], x_train.shape[1],1)\n",
    "x_test = x_test.reshape(x_test.shape[0], x_test.shape[1],1)"
   ]
  },
  {
   "cell_type": "code",
   "execution_count": 27,
   "metadata": {},
   "outputs": [
    {
     "name": "stdout",
     "output_type": "stream",
     "text": [
      "(1425, 100, 1)\n",
      "(1425,)\n"
     ]
    },
    {
     "data": {
      "text/plain": [
       "(None, None)"
      ]
     },
     "execution_count": 27,
     "metadata": {},
     "output_type": "execute_result"
    }
   ],
   "source": [
    "print(x_train.shape), print(y_train.shape)"
   ]
  },
  {
   "cell_type": "code",
   "execution_count": 28,
   "metadata": {},
   "outputs": [],
   "source": [
    "model = Sequential()\n",
    "model.add(LSTM(50, return_sequences = True, input_shape = (100, 1)))\n",
    "model.add(LSTM(50,return_sequences = True))\n",
    "model.add(LSTM(50))\n",
    "model.add(Dense(1))\n",
    "model.compile(loss = 'mean_squared_error', optimizer = 'adam')"
   ]
  },
  {
   "cell_type": "code",
   "execution_count": 29,
   "metadata": {},
   "outputs": [
    {
     "name": "stdout",
     "output_type": "stream",
     "text": [
      "Model: \"sequential\"\n",
      "_________________________________________________________________\n",
      "Layer (type)                 Output Shape              Param #   \n",
      "=================================================================\n",
      "lstm (LSTM)                  (None, 100, 50)           10400     \n",
      "_________________________________________________________________\n",
      "lstm_1 (LSTM)                (None, 100, 50)           20200     \n",
      "_________________________________________________________________\n",
      "lstm_2 (LSTM)                (None, 50)                20200     \n",
      "_________________________________________________________________\n",
      "dense (Dense)                (None, 1)                 51        \n",
      "=================================================================\n",
      "Total params: 50,851\n",
      "Trainable params: 50,851\n",
      "Non-trainable params: 0\n",
      "_________________________________________________________________\n"
     ]
    }
   ],
   "source": [
    "model.summary()"
   ]
  },
  {
   "cell_type": "code",
   "execution_count": 30,
   "metadata": {},
   "outputs": [
    {
     "name": "stdout",
     "output_type": "stream",
     "text": [
      "Epoch 1/100\n",
      "23/23 [==============================] - 13s 211ms/step - loss: 0.0276 - val_loss: 0.0078\n",
      "Epoch 2/100\n",
      "23/23 [==============================] - 4s 183ms/step - loss: 0.0032 - val_loss: 0.0020\n",
      "Epoch 3/100\n",
      "23/23 [==============================] - 5s 231ms/step - loss: 0.0015 - val_loss: 0.0013\n",
      "Epoch 4/100\n",
      "23/23 [==============================] - 6s 245ms/step - loss: 0.0014 - val_loss: 0.0013\n",
      "Epoch 5/100\n",
      "23/23 [==============================] - 6s 241ms/step - loss: 0.0013 - val_loss: 0.0015\n",
      "Epoch 6/100\n",
      "23/23 [==============================] - 6s 244ms/step - loss: 0.0015 - val_loss: 0.0013\n",
      "Epoch 7/100\n",
      "23/23 [==============================] - 5s 239ms/step - loss: 0.0012 - val_loss: 0.0012\n",
      "Epoch 8/100\n",
      "23/23 [==============================] - 6s 251ms/step - loss: 0.0013 - val_loss: 0.0012\n",
      "Epoch 9/100\n",
      "23/23 [==============================] - 5s 233ms/step - loss: 0.0012 - val_loss: 0.0011\n",
      "Epoch 10/100\n",
      "23/23 [==============================] - 5s 232ms/step - loss: 0.0012 - val_loss: 0.0012\n",
      "Epoch 11/100\n",
      "23/23 [==============================] - 5s 234ms/step - loss: 0.0012 - val_loss: 0.0011\n",
      "Epoch 12/100\n",
      "23/23 [==============================] - 6s 245ms/step - loss: 0.0011 - val_loss: 7.8000e-04\n",
      "Epoch 13/100\n",
      "23/23 [==============================] - 6s 246ms/step - loss: 0.0011 - val_loss: 8.3329e-04\n",
      "Epoch 14/100\n",
      "23/23 [==============================] - 5s 240ms/step - loss: 9.1750e-04 - val_loss: 6.7893e-04\n",
      "Epoch 15/100\n",
      "23/23 [==============================] - 6s 249ms/step - loss: 9.3160e-04 - val_loss: 6.8474e-04\n",
      "Epoch 16/100\n",
      "23/23 [==============================] - 6s 243ms/step - loss: 8.9627e-04 - val_loss: 8.1790e-04\n",
      "Epoch 17/100\n",
      "23/23 [==============================] - 6s 259ms/step - loss: 9.0557e-04 - val_loss: 6.3838e-04\n",
      "Epoch 18/100\n",
      "23/23 [==============================] - 6s 241ms/step - loss: 8.6260e-04 - val_loss: 7.7038e-04\n",
      "Epoch 19/100\n",
      "23/23 [==============================] - 6s 245ms/step - loss: 8.1782e-04 - val_loss: 5.6387e-04\n",
      "Epoch 20/100\n",
      "23/23 [==============================] - 6s 250ms/step - loss: 8.6686e-04 - val_loss: 5.4415e-04\n",
      "Epoch 21/100\n",
      "23/23 [==============================] - 6s 243ms/step - loss: 8.7442e-04 - val_loss: 6.8638e-04\n",
      "Epoch 22/100\n",
      "23/23 [==============================] - 7s 308ms/step - loss: 8.1510e-04 - val_loss: 8.4636e-04\n",
      "Epoch 23/100\n",
      "23/23 [==============================] - 5s 239ms/step - loss: 8.4329e-04 - val_loss: 7.0732e-04\n",
      "Epoch 24/100\n",
      "23/23 [==============================] - 6s 266ms/step - loss: 7.3510e-04 - val_loss: 6.4297e-04\n",
      "Epoch 25/100\n",
      "23/23 [==============================] - 6s 265ms/step - loss: 7.3825e-04 - val_loss: 4.4635e-04\n",
      "Epoch 26/100\n",
      "23/23 [==============================] - 6s 249ms/step - loss: 7.1661e-04 - val_loss: 6.0652e-04\n",
      "Epoch 27/100\n",
      "23/23 [==============================] - 6s 244ms/step - loss: 7.0700e-04 - val_loss: 8.0586e-04\n",
      "Epoch 28/100\n",
      "23/23 [==============================] - 6s 260ms/step - loss: 7.0607e-04 - val_loss: 6.6506e-04\n",
      "Epoch 29/100\n",
      "23/23 [==============================] - 6s 245ms/step - loss: 7.2266e-04 - val_loss: 5.5943e-04\n",
      "Epoch 30/100\n",
      "23/23 [==============================] - 6s 242ms/step - loss: 6.7858e-04 - val_loss: 6.6460e-04\n",
      "Epoch 31/100\n",
      "23/23 [==============================] - 5s 232ms/step - loss: 6.6165e-04 - val_loss: 5.2012e-04\n",
      "Epoch 32/100\n",
      "23/23 [==============================] - 5s 238ms/step - loss: 7.5802e-04 - val_loss: 0.0011\n",
      "Epoch 33/100\n",
      "23/23 [==============================] - 6s 243ms/step - loss: 7.5567e-04 - val_loss: 4.6218e-04\n",
      "Epoch 34/100\n",
      "23/23 [==============================] - 6s 243ms/step - loss: 7.2361e-04 - val_loss: 6.2900e-04\n",
      "Epoch 35/100\n",
      "23/23 [==============================] - 5s 230ms/step - loss: 6.1460e-04 - val_loss: 6.0568e-04\n",
      "Epoch 36/100\n",
      "23/23 [==============================] - 6s 242ms/step - loss: 6.0514e-04 - val_loss: 6.4269e-04\n",
      "Epoch 37/100\n",
      "23/23 [==============================] - 5s 234ms/step - loss: 6.3309e-04 - val_loss: 5.1688e-04\n",
      "Epoch 38/100\n",
      "23/23 [==============================] - 6s 242ms/step - loss: 6.1799e-04 - val_loss: 5.5723e-04\n",
      "Epoch 39/100\n",
      "23/23 [==============================] - 6s 274ms/step - loss: 6.3924e-04 - val_loss: 7.2705e-04\n",
      "Epoch 40/100\n",
      "23/23 [==============================] - 5s 236ms/step - loss: 6.1195e-04 - val_loss: 4.3420e-04\n",
      "Epoch 41/100\n",
      "23/23 [==============================] - 5s 235ms/step - loss: 5.7162e-04 - val_loss: 5.9956e-04\n",
      "Epoch 42/100\n",
      "23/23 [==============================] - 5s 229ms/step - loss: 7.2367e-04 - val_loss: 5.4200e-04\n",
      "Epoch 43/100\n",
      "23/23 [==============================] - 6s 259ms/step - loss: 5.8507e-04 - val_loss: 5.0240e-04\n",
      "Epoch 44/100\n",
      "23/23 [==============================] - 5s 238ms/step - loss: 6.1483e-04 - val_loss: 6.3075e-04\n",
      "Epoch 45/100\n",
      "23/23 [==============================] - 6s 245ms/step - loss: 5.9372e-04 - val_loss: 5.6691e-04\n",
      "Epoch 46/100\n",
      "23/23 [==============================] - 5s 237ms/step - loss: 5.1770e-04 - val_loss: 4.2599e-04\n",
      "Epoch 47/100\n",
      "23/23 [==============================] - 5s 230ms/step - loss: 5.2511e-04 - val_loss: 4.6068e-04\n",
      "Epoch 48/100\n",
      "23/23 [==============================] - 5s 230ms/step - loss: 5.0916e-04 - val_loss: 4.5520e-04\n",
      "Epoch 49/100\n",
      "23/23 [==============================] - 5s 238ms/step - loss: 4.9826e-04 - val_loss: 3.5074e-04\n",
      "Epoch 50/100\n",
      "23/23 [==============================] - 5s 229ms/step - loss: 5.7836e-04 - val_loss: 4.5935e-04\n",
      "Epoch 51/100\n",
      "23/23 [==============================] - 5s 229ms/step - loss: 4.7117e-04 - val_loss: 4.9605e-04\n",
      "Epoch 52/100\n",
      "23/23 [==============================] - 5s 227ms/step - loss: 4.7206e-04 - val_loss: 3.4176e-04\n",
      "Epoch 53/100\n",
      "23/23 [==============================] - 5s 229ms/step - loss: 4.7856e-04 - val_loss: 4.7455e-04\n",
      "Epoch 54/100\n",
      "23/23 [==============================] - 5s 232ms/step - loss: 4.2682e-04 - val_loss: 4.6498e-04\n",
      "Epoch 55/100\n",
      "23/23 [==============================] - 5s 230ms/step - loss: 4.0802e-04 - val_loss: 3.4021e-04\n",
      "Epoch 56/100\n",
      "23/23 [==============================] - 5s 233ms/step - loss: 4.1535e-04 - val_loss: 2.7739e-04\n",
      "Epoch 57/100\n",
      "23/23 [==============================] - 5s 231ms/step - loss: 4.1009e-04 - val_loss: 2.8221e-04\n",
      "Epoch 58/100\n",
      "23/23 [==============================] - 5s 230ms/step - loss: 3.6790e-04 - val_loss: 3.1143e-04\n",
      "Epoch 59/100\n",
      "23/23 [==============================] - 5s 230ms/step - loss: 3.6579e-04 - val_loss: 3.0192e-04\n",
      "Epoch 60/100\n",
      "23/23 [==============================] - 5s 232ms/step - loss: 3.4191e-04 - val_loss: 3.5381e-04\n",
      "Epoch 61/100\n",
      "23/23 [==============================] - 5s 228ms/step - loss: 3.6134e-04 - val_loss: 3.4707e-04\n",
      "Epoch 62/100\n",
      "23/23 [==============================] - 5s 231ms/step - loss: 3.3543e-04 - val_loss: 3.3468e-04\n",
      "Epoch 63/100\n",
      "23/23 [==============================] - 5s 227ms/step - loss: 3.3654e-04 - val_loss: 4.4895e-04\n",
      "Epoch 64/100\n",
      "23/23 [==============================] - 5s 230ms/step - loss: 3.3821e-04 - val_loss: 2.7370e-04\n",
      "Epoch 65/100\n",
      "23/23 [==============================] - 5s 231ms/step - loss: 3.3350e-04 - val_loss: 2.5187e-04\n",
      "Epoch 66/100\n",
      "23/23 [==============================] - 5s 228ms/step - loss: 3.1880e-04 - val_loss: 2.3341e-04\n",
      "Epoch 67/100\n",
      "23/23 [==============================] - 5s 229ms/step - loss: 3.0271e-04 - val_loss: 2.5326e-04\n",
      "Epoch 68/100\n",
      "23/23 [==============================] - 5s 229ms/step - loss: 2.9509e-04 - val_loss: 3.9652e-04\n",
      "Epoch 69/100\n",
      "23/23 [==============================] - 5s 228ms/step - loss: 2.9206e-04 - val_loss: 3.1826e-04\n",
      "Epoch 70/100\n",
      "23/23 [==============================] - 5s 235ms/step - loss: 3.1646e-04 - val_loss: 2.1345e-04\n",
      "Epoch 71/100\n",
      "23/23 [==============================] - 5s 231ms/step - loss: 3.2906e-04 - val_loss: 3.5996e-04\n",
      "Epoch 72/100\n",
      "23/23 [==============================] - 5s 230ms/step - loss: 3.5118e-04 - val_loss: 2.4139e-04\n",
      "Epoch 73/100\n",
      "23/23 [==============================] - 5s 234ms/step - loss: 2.8611e-04 - val_loss: 2.7718e-04\n",
      "Epoch 74/100\n",
      "23/23 [==============================] - 6s 256ms/step - loss: 2.9694e-04 - val_loss: 2.5191e-04\n",
      "Epoch 75/100\n",
      "23/23 [==============================] - 6s 241ms/step - loss: 3.3234e-04 - val_loss: 2.4636e-04\n",
      "Epoch 76/100\n",
      "23/23 [==============================] - 5s 231ms/step - loss: 3.0521e-04 - val_loss: 2.3174e-04\n",
      "Epoch 77/100\n",
      "23/23 [==============================] - 6s 256ms/step - loss: 2.6551e-04 - val_loss: 2.1875e-04\n",
      "Epoch 78/100\n",
      "23/23 [==============================] - 5s 235ms/step - loss: 3.3018e-04 - val_loss: 4.1288e-04\n",
      "Epoch 79/100\n",
      "23/23 [==============================] - 5s 234ms/step - loss: 3.2512e-04 - val_loss: 2.3664e-04\n",
      "Epoch 80/100\n",
      "23/23 [==============================] - 6s 240ms/step - loss: 2.8682e-04 - val_loss: 2.0382e-04\n",
      "Epoch 81/100\n",
      "23/23 [==============================] - 6s 244ms/step - loss: 2.7377e-04 - val_loss: 1.9312e-04\n",
      "Epoch 82/100\n",
      "23/23 [==============================] - 6s 261ms/step - loss: 3.0064e-04 - val_loss: 1.9331e-04\n",
      "Epoch 83/100\n",
      "23/23 [==============================] - 5s 234ms/step - loss: 2.5469e-04 - val_loss: 2.5875e-04\n",
      "Epoch 84/100\n",
      "23/23 [==============================] - 5s 234ms/step - loss: 2.5355e-04 - val_loss: 2.4124e-04\n",
      "Epoch 85/100\n",
      "23/23 [==============================] - 5s 238ms/step - loss: 2.5069e-04 - val_loss: 2.0369e-04\n",
      "Epoch 86/100\n",
      "23/23 [==============================] - 5s 239ms/step - loss: 2.4054e-04 - val_loss: 1.9060e-04\n",
      "Epoch 87/100\n",
      "23/23 [==============================] - 5s 238ms/step - loss: 2.6073e-04 - val_loss: 2.5550e-04\n",
      "Epoch 88/100\n",
      "23/23 [==============================] - 5s 234ms/step - loss: 2.5587e-04 - val_loss: 1.8661e-04\n",
      "Epoch 89/100\n",
      "23/23 [==============================] - 5s 233ms/step - loss: 2.5938e-04 - val_loss: 1.8046e-04\n",
      "Epoch 90/100\n",
      "23/23 [==============================] - 6s 247ms/step - loss: 2.9315e-04 - val_loss: 1.7524e-04\n",
      "Epoch 91/100\n",
      "23/23 [==============================] - 5s 238ms/step - loss: 2.7866e-04 - val_loss: 2.2170e-04\n",
      "Epoch 92/100\n",
      "23/23 [==============================] - 6s 241ms/step - loss: 2.4572e-04 - val_loss: 2.4438e-04\n",
      "Epoch 93/100\n",
      "23/23 [==============================] - 5s 235ms/step - loss: 2.5446e-04 - val_loss: 2.0968e-04\n",
      "Epoch 94/100\n",
      "23/23 [==============================] - 6s 246ms/step - loss: 2.3439e-04 - val_loss: 1.7494e-04\n",
      "Epoch 95/100\n",
      "23/23 [==============================] - 6s 265ms/step - loss: 2.5488e-04 - val_loss: 1.9997e-04\n",
      "Epoch 96/100\n",
      "23/23 [==============================] - 7s 287ms/step - loss: 2.4586e-04 - val_loss: 2.3985e-04\n",
      "Epoch 97/100\n",
      "23/23 [==============================] - 6s 268ms/step - loss: 2.6364e-04 - val_loss: 1.8534e-04\n",
      "Epoch 98/100\n",
      "23/23 [==============================] - 6s 240ms/step - loss: 2.4249e-04 - val_loss: 1.9097e-04\n",
      "Epoch 99/100\n",
      "23/23 [==============================] - 5s 227ms/step - loss: 2.2652e-04 - val_loss: 2.9582e-04\n",
      "Epoch 100/100\n",
      "23/23 [==============================] - 5s 228ms/step - loss: 2.6763e-04 - val_loss: 2.3041e-04\n"
     ]
    },
    {
     "data": {
      "text/plain": [
       "<tensorflow.python.keras.callbacks.History at 0x17da132cfd0>"
      ]
     },
     "execution_count": 30,
     "metadata": {},
     "output_type": "execute_result"
    }
   ],
   "source": [
    "model.fit(x_train, y_train, validation_data = (x_test, y_test), epochs = 100, batch_size = 64, verbose = 1)"
   ]
  },
  {
   "cell_type": "markdown",
   "metadata": {},
   "source": [
    "# Plot baseline"
   ]
  },
  {
   "cell_type": "code",
   "execution_count": 33,
   "metadata": {},
   "outputs": [
    {
     "data": {
      "image/png": "[encoded data removed]",
      "text/plain": [
       "<Figure size 1440x360 with 1 Axes>"
      ]
     },
     "metadata": {
      "needs_background": "light"
     },
     "output_type": "display_data"
    }
   ],
   "source": [
    "plt.subplots(figsize=(20,5))\n",
    "plt.plot(scaler.inverse_transform(df), color = \"black\")\n",
    "plt.show()"
   ]
  },
  {
   "cell_type": "markdown",
   "metadata": {},
   "source": [
    "# Training prediction and testing prediction"
   ]
  },
  {
   "cell_type": "code",
   "execution_count": 34,
   "metadata": {},
   "outputs": [
    {
     "ename": "NameError",
     "evalue": "name 'trainPredictPlot' is not defined",
     "output_type": "error",
     "traceback": [
      "\u001b[1;31m---------------------------------------------------------------------------\u001b[0m",
      "\u001b[1;31mNameError\u001b[0m                                 Traceback (most recent call last)",
      "\u001b[1;32m<ipython-input-34-10861cc110af>\u001b[0m in \u001b[0;36m<module>\u001b[1;34m\u001b[0m\n\u001b[0;32m      1\u001b[0m \u001b[0mplt\u001b[0m\u001b[1;33m.\u001b[0m\u001b[0msubplots\u001b[0m\u001b[1;33m(\u001b[0m\u001b[0mfigsize\u001b[0m\u001b[1;33m=\u001b[0m\u001b[1;33m(\u001b[0m\u001b[1;36m20\u001b[0m\u001b[1;33m,\u001b[0m\u001b[1;36m5\u001b[0m\u001b[1;33m)\u001b[0m\u001b[1;33m)\u001b[0m\u001b[1;33m\u001b[0m\u001b[1;33m\u001b[0m\u001b[0m\n\u001b[1;32m----> 2\u001b[1;33m \u001b[0mplt\u001b[0m\u001b[1;33m.\u001b[0m\u001b[0mplot\u001b[0m\u001b[1;33m(\u001b[0m\u001b[0mtrainPredictPlot\u001b[0m\u001b[1;33m,\u001b[0m\u001b[0mcolor\u001b[0m \u001b[1;33m=\u001b[0m\u001b[1;34m'red'\u001b[0m\u001b[1;33m)\u001b[0m\u001b[1;33m\u001b[0m\u001b[1;33m\u001b[0m\u001b[0m\n\u001b[0m\u001b[0;32m      3\u001b[0m \u001b[0mplt\u001b[0m\u001b[1;33m.\u001b[0m\u001b[0mplot\u001b[0m\u001b[1;33m(\u001b[0m\u001b[0mtestPredictPlot\u001b[0m\u001b[1;33m,\u001b[0m \u001b[0mcolor\u001b[0m \u001b[1;33m=\u001b[0m\u001b[1;34m'blue'\u001b[0m\u001b[1;33m)\u001b[0m\u001b[1;33m\u001b[0m\u001b[1;33m\u001b[0m\u001b[0m\n\u001b[0;32m      4\u001b[0m \u001b[0mplt\u001b[0m\u001b[1;33m.\u001b[0m\u001b[0mshow\u001b[0m\u001b[1;33m(\u001b[0m\u001b[1;33m)\u001b[0m\u001b[1;33m\u001b[0m\u001b[1;33m\u001b[0m\u001b[0m\n",
      "\u001b[1;31mNameError\u001b[0m: name 'trainPredictPlot' is not defined"
     ]
    },
    {
     "data": {
      "image/png": "[encoded data removed]",
      "text/plain": [
       "<Figure size 1440x360 with 1 Axes>"
      ]
     },
     "metadata": {
      "needs_background": "light"
     },
     "output_type": "display_data"
    }
   ],
   "source": [
    "plt.subplots(figsize=(20,5))\n",
    "plt.plot(trainPredictPlot,color ='red')\n",
    "plt.plot(testPredictPlot, color ='blue')\n",
    "plt.show()"
   ]
  },
  {
   "cell_type": "code",
   "execution_count": 35,
   "metadata": {},
   "outputs": [
    {
     "ename": "NameError",
     "evalue": "name 'trainPredictPlot' is not defined",
     "output_type": "error",
     "traceback": [
      "\u001b[1;31m---------------------------------------------------------------------------\u001b[0m",
      "\u001b[1;31mNameError\u001b[0m                                 Traceback (most recent call last)",
      "\u001b[1;32m<ipython-input-35-c879e37b0042>\u001b[0m in \u001b[0;36m<module>\u001b[1;34m\u001b[0m\n\u001b[0;32m      1\u001b[0m \u001b[0mplt\u001b[0m\u001b[1;33m.\u001b[0m\u001b[0msubplots\u001b[0m\u001b[1;33m(\u001b[0m\u001b[0mfigsize\u001b[0m\u001b[1;33m=\u001b[0m\u001b[1;33m(\u001b[0m\u001b[1;36m20\u001b[0m\u001b[1;33m,\u001b[0m\u001b[1;36m10\u001b[0m\u001b[1;33m)\u001b[0m\u001b[1;33m)\u001b[0m\u001b[1;33m\u001b[0m\u001b[1;33m\u001b[0m\u001b[0m\n\u001b[0;32m      2\u001b[0m \u001b[0mplt\u001b[0m\u001b[1;33m.\u001b[0m\u001b[0mplot\u001b[0m\u001b[1;33m(\u001b[0m\u001b[0mscaler\u001b[0m\u001b[1;33m.\u001b[0m\u001b[0minverse_transform\u001b[0m\u001b[1;33m(\u001b[0m\u001b[0mdf\u001b[0m\u001b[1;33m)\u001b[0m\u001b[1;33m,\u001b[0m \u001b[0mcolor\u001b[0m\u001b[1;33m=\u001b[0m \u001b[1;34m'black'\u001b[0m\u001b[1;33m)\u001b[0m\u001b[1;33m\u001b[0m\u001b[1;33m\u001b[0m\u001b[0m\n\u001b[1;32m----> 3\u001b[1;33m \u001b[0mplt\u001b[0m\u001b[1;33m.\u001b[0m\u001b[0mplot\u001b[0m\u001b[1;33m(\u001b[0m\u001b[0mtrainPredictPlot\u001b[0m\u001b[1;33m,\u001b[0m \u001b[0mcolor\u001b[0m\u001b[1;33m=\u001b[0m\u001b[1;34m'red'\u001b[0m\u001b[1;33m)\u001b[0m\u001b[1;33m\u001b[0m\u001b[1;33m\u001b[0m\u001b[0m\n\u001b[0m\u001b[0;32m      4\u001b[0m \u001b[0mplt\u001b[0m\u001b[1;33m.\u001b[0m\u001b[0mplot\u001b[0m\u001b[1;33m(\u001b[0m\u001b[0mtestPredictPlot\u001b[0m\u001b[1;33m,\u001b[0m \u001b[0mcolor\u001b[0m\u001b[1;33m=\u001b[0m\u001b[1;34m'blue'\u001b[0m\u001b[1;33m)\u001b[0m\u001b[1;33m\u001b[0m\u001b[1;33m\u001b[0m\u001b[0m\n",
      "\u001b[1;31mNameError\u001b[0m: name 'trainPredictPlot' is not defined"
     ]
    },
    {
     "data": {
      "image/png": "[encoded data removed]",
      "text/plain": [
       "<Figure size 1440x720 with 1 Axes>"
      ]
     },
     "metadata": {
      "needs_background": "light"
     },
     "output_type": "display_data"
    }
   ],
   "source": [
    "plt.subplots(figsize=(20,10))\n",
    "plt.plot(scaler.inverse_transform(df), color= 'black')\n",
    "plt.plot(trainPredictPlot, color='red')\n",
    "plt.plot(testPredictPlot, color='blue')"
   ]
  },
  {
   "cell_type": "code",
   "execution_count": null,
   "metadata": {},
   "outputs": [],
   "source": [
    "print(\"Length of test data :\", len(test_data))"
   ]
  },
  {
   "cell_type": "code",
   "execution_count": 36,
   "metadata": {},
   "outputs": [
    {
     "data": {
      "text/plain": [
       "(509, 1)"
      ]
     },
     "execution_count": 36,
     "metadata": {},
     "output_type": "execute_result"
    }
   ],
   "source": [
    "\n",
    "test_data.shape"
   ]
  },
  {
   "cell_type": "markdown",
   "metadata": {},
   "source": [
    "# Taking previous 100 days data from test data prediction of future data"
   ]
  },
  {
   "cell_type": "code",
   "execution_count": 37,
   "metadata": {},
   "outputs": [
    {
     "data": {
      "text/plain": [
       "(1, 100)"
      ]
     },
     "execution_count": 37,
     "metadata": {},
     "output_type": "execute_result"
    }
   ],
   "source": [
    "x_ip = test_data[409:].reshape(1,-1)\n",
    "x_ip.shape"
   ]
  },
  {
   "cell_type": "code",
   "execution_count": 38,
   "metadata": {},
   "outputs": [],
   "source": [
    "\n",
    "temp_ip = list(x_ip)\n",
    "temp_ip = temp_ip[0].tolist()"
   ]
  },
  {
   "cell_type": "code",
   "execution_count": 45,
   "metadata": {},
   "outputs": [
    {
     "ename": "NameError",
     "evalue": "name 'i100' is not defined",
     "output_type": "error",
     "traceback": [
      "\u001b[1;31m---------------------------------------------------------------------------\u001b[0m",
      "\u001b[1;31mNameError\u001b[0m                                 Traceback (most recent call last)",
      "\u001b[1;32m<ipython-input-45-a3045a0f7e7f>\u001b[0m in \u001b[0;36m<module>\u001b[1;34m\u001b[0m\n\u001b[0;32m      6\u001b[0m \u001b[0mi\u001b[0m\u001b[1;33m=\u001b[0m\u001b[1;36m0\u001b[0m\u001b[1;33m\u001b[0m\u001b[1;33m\u001b[0m\u001b[0m\n\u001b[0;32m      7\u001b[0m \u001b[1;33m\u001b[0m\u001b[0m\n\u001b[1;32m----> 8\u001b[1;33m \u001b[1;32mwhile\u001b[0m\u001b[1;33m(\u001b[0m\u001b[0mi100\u001b[0m\u001b[1;33m)\u001b[0m\u001b[1;33m:\u001b[0m\u001b[1;33m\u001b[0m\u001b[1;33m\u001b[0m\u001b[0m\n\u001b[0m\u001b[0;32m      9\u001b[0m     \u001b[0mx_ip\u001b[0m \u001b[1;33m=\u001b[0m \u001b[0mnp\u001b[0m\u001b[1;33m.\u001b[0m\u001b[0marray\u001b[0m\u001b[1;33m(\u001b[0m\u001b[0mtemp_ip\u001b[0m\u001b[1;33m[\u001b[0m\u001b[1;36m1\u001b[0m\u001b[1;33m:\u001b[0m\u001b[1;33m]\u001b[0m\u001b[1;33m)\u001b[0m\u001b[1;33m\u001b[0m\u001b[1;33m\u001b[0m\u001b[0m\n\u001b[0;32m     10\u001b[0m     \u001b[0mprint\u001b[0m\u001b[1;33m(\u001b[0m\u001b[1;34m\"Day {} input {}\"\u001b[0m\u001b[1;33m.\u001b[0m\u001b[0mformat\u001b[0m\u001b[1;33m(\u001b[0m\u001b[0mi\u001b[0m\u001b[1;33m,\u001b[0m\u001b[0mx_ip\u001b[0m\u001b[1;33m)\u001b[0m\u001b[1;33m)\u001b[0m\u001b[1;33m\u001b[0m\u001b[1;33m\u001b[0m\u001b[0m\n",
      "\u001b[1;31mNameError\u001b[0m: name 'i100' is not defined"
     ]
    }
   ],
   "source": [
    "lst_output=[]\n",
    "n_steps=100\n",
    "\n",
    "future_Days=15\n",
    "\n",
    "i=0\n",
    "\n",
    "while(i100):\n",
    "    x_ip = np.array(temp_ip[1:])\n",
    "    print(\"Day {} input {}\".format(i,x_ip))\n",
    "\n",
    "    x_ip = x_ip.reshape(1, -1)\n",
    "    x_ip = x_ip.reshape(1, n_steps, 1)\n",
    "    yhat = model.predict(x_ip, verbose=0)\n",
    "    print(\"Day {} output {}\\n\".format(i,yhat))\n",
    "\n",
    "    temp_ip.extend(yhat[0].tolist())\n",
    "    temp_ip = temp_ip[1:]\n",
    "    lst_output.extend(yhat.tolist())\n",
    "    i=i+1\n",
    "else:\n",
    "    x_ip = x_ip.reshape(1, n_steps, 1)\n",
    "    yhat = model.predict(x_ip, verbose=0)\n",
    "    print(yhat[0])\n",
    "    temp_ip.extend(yhat[0].tolist())\n",
    "    print(len(temp_ip))\n",
    "    lst_output.extend(yhat.tolist())\n",
    "    i=i+1\n"
   ]
  },
  {
   "cell_type": "code",
   "execution_count": 46,
   "metadata": {},
   "outputs": [],
   "source": [
    "day_new = np.arange(1,101)\n",
    "day_pred = np.arange(101,116)\n",
    "\n",
    "fd= df.tolist()\n",
    "fd.extend(lst_output)"
   ]
  },
  {
   "cell_type": "code",
   "execution_count": 42,
   "metadata": {},
   "outputs": [
    {
     "data": {
      "text/plain": [
       "2035"
      ]
     },
     "execution_count": 42,
     "metadata": {},
     "output_type": "execute_result"
    }
   ],
   "source": [
    "len(df)"
   ]
  },
  {
   "cell_type": "code",
   "execution_count": 43,
   "metadata": {},
   "outputs": [
    {
     "data": {
      "text/plain": [
       "1935"
      ]
     },
     "execution_count": 43,
     "metadata": {},
     "output_type": "execute_result"
    }
   ],
   "source": [
    "2035-100"
   ]
  },
  {
   "cell_type": "code",
   "execution_count": null,
   "metadata": {},
   "outputs": [],
   "source": []
  },
  {
   "cell_type": "code",
   "execution_count": null,
   "metadata": {},
   "outputs": [],
   "source": []
  }
 ],
 "metadata": {
  "kernelspec": {
   "display_name": "Python 3",
   "language": "python",
   "name": "python3"
  },
  "language_info": {
   "codemirror_mode": {
    "name": "ipython",
    "version": 3
   },
   "file_extension": ".py",
   "mimetype": "text/x-python",
   "name": "python",
   "nbconvert_exporter": "python",
   "pygments_lexer": "ipython3",
   "version": "3.8.5"
  }
 },
 "nbformat": 4,
 "nbformat_minor": 4
}
